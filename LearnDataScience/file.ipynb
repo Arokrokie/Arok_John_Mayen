{
 "cells": [
  {
   "cell_type": "code",
   "execution_count": 1,
   "id": "b3d4e19b",
   "metadata": {},
   "outputs": [],
   "source": [
    "#Reading and Writing files\n",
    "# Opening a file in read mode\n",
    "file = open(\"jeff.txt\", \"r\") # 'r' is for read mode\n",
    "# Reading the entire content of the file"
   ]
  },
  {
   "cell_type": "code",
   "execution_count": 2,
   "id": "5796aa81",
   "metadata": {},
   "outputs": [
    {
     "name": "stdout",
     "output_type": "stream",
     "text": [
      "Working with text files\n"
     ]
    }
   ],
   "source": [
    "# Reading the content of the file\n",
    "content = file.read()\n",
    "# Printing the content\n",
    "print(content)\n",
    "# Closing the file\n",
    "file.close()"
   ]
  },
  {
   "cell_type": "code",
   "execution_count": 5,
   "id": "1ad898df",
   "metadata": {},
   "outputs": [],
   "source": [
    "# Writing to a file\n",
    "with open(\"geoff.txt\", \"w\") as file: \n",
    "    # Writing a string to the file\n",
    "    file.write(\"Welcome to writing files in Jupyter Notebook first line.\\n\")\n",
    "    # Writing another string\n",
    "    #file.write(\"This is another line.\\n\")"
   ]
  }
 ],
 "metadata": {
  "kernelspec": {
   "display_name": "base",
   "language": "python",
   "name": "python3"
  },
  "language_info": {
   "codemirror_mode": {
    "name": "ipython",
    "version": 3
   },
   "file_extension": ".py",
   "mimetype": "text/x-python",
   "name": "python",
   "nbconvert_exporter": "python",
   "pygments_lexer": "ipython3",
   "version": "3.12.7"
  }
 },
 "nbformat": 4,
 "nbformat_minor": 5
}
